{
 "cells": [
  {
   "cell_type": "markdown",
   "metadata": {},
   "source": [
    "# **Obtaining Dataset**"
   ]
  },
  {
   "cell_type": "code",
   "execution_count": 2,
   "metadata": {
    "_cell_guid": "b1076dfc-b9ad-4769-8c92-a6c4dae69d19",
    "_uuid": "8f2839f25d086af736a60e9eeb907d3b93b6e0e5",
    "execution": {
     "iopub.execute_input": "2023-05-22T16:14:11.605029Z",
     "iopub.status.busy": "2023-05-22T16:14:11.604636Z",
     "iopub.status.idle": "2023-05-22T16:14:11.618860Z",
     "shell.execute_reply": "2023-05-22T16:14:11.617746Z",
     "shell.execute_reply.started": "2023-05-22T16:14:11.604999Z"
    }
   },
   "outputs": [
    {
     "name": "stdout",
     "output_type": "stream",
     "text": [
      "/kaggle/input/fake-and-real-news-dataset/True.csv\n",
      "/kaggle/input/fake-and-real-news-dataset/Fake.csv\n"
     ]
    }
   ],
   "source": [
    "import pandas as pd\n",
    "import matplotlib.pyplot as plt\n",
    "import numpy as np\n",
    "\n",
    "pd.set_option(\"display.max_columns\",50)\n",
    "pd.set_option(\"display.max_rows\",50)\n",
    "\n",
    "import nltk\n",
    "from nltk.stem.porter import PorterStemmer\n",
    "from wordcloud import WordCloud   #graphical representation of data\n",
    "from wordcloud import STOPWORDS   #insignificant words without any meaning\n",
    "\n",
    "from PIL import Image\n",
    "\n",
    "from sklearn.model_selection import train_test_split\n",
    "\n",
    "\n",
    "from sklearn.naive_bayes import MultinomialNB\n",
    "from sklearn.metrics import accuracy_score\n",
    "\n",
    "\n",
    "import warnings\n",
    "warnings.filterwarnings('ignore')\n",
    "\n",
    "from nltk.corpus import stopwords\n",
    "\n",
    "stopwords = stopwords.words('english') + ['of','the','to','be','that','with','on','for','by','at','one']\n",
    "\n",
    "\n",
    "\n",
    "import os\n",
    "for dirname, _, filenames in os.walk('/kaggle/input'):\n",
    "    for filename in filenames:\n",
    "        print(os.path.join(dirname, filename))"
   ]
  },
  {
   "cell_type": "code",
   "execution_count": 3,
   "metadata": {
    "execution": {
     "iopub.execute_input": "2023-05-22T16:14:11.622405Z",
     "iopub.status.busy": "2023-05-22T16:14:11.621198Z",
     "iopub.status.idle": "2023-05-22T16:14:14.720974Z",
     "shell.execute_reply": "2023-05-22T16:14:14.719863Z",
     "shell.execute_reply.started": "2023-05-22T16:14:11.622364Z"
    }
   },
   "outputs": [],
   "source": [
    "df_fake=pd.read_csv(\"/kaggle/input/fake-and-real-news-dataset/Fake.csv\")\n",
    "df_true=pd.read_csv(\"/kaggle/input/fake-and-real-news-dataset/True.csv\")"
   ]
  },
  {
   "cell_type": "code",
   "execution_count": 4,
   "metadata": {
    "execution": {
     "iopub.execute_input": "2023-05-22T16:14:14.723482Z",
     "iopub.status.busy": "2023-05-22T16:14:14.722687Z",
     "iopub.status.idle": "2023-05-22T16:14:14.729213Z",
     "shell.execute_reply": "2023-05-22T16:14:14.728120Z",
     "shell.execute_reply.started": "2023-05-22T16:14:14.723372Z"
    }
   },
   "outputs": [
    {
     "name": "stdout",
     "output_type": "stream",
     "text": [
      "Fake Data shape:  (23481, 4)\n",
      "True Data shape:  (21417, 4)\n"
     ]
    }
   ],
   "source": [
    "print(\"Fake Data shape: \",df_fake.shape)\n",
    "print(\"True Data shape: \",df_true.shape)"
   ]
  },
  {
   "cell_type": "code",
   "execution_count": 5,
   "metadata": {
    "execution": {
     "iopub.execute_input": "2023-05-22T16:14:14.733813Z",
     "iopub.status.busy": "2023-05-22T16:14:14.733304Z",
     "iopub.status.idle": "2023-05-22T16:14:14.774839Z",
     "shell.execute_reply": "2023-05-22T16:14:14.773692Z",
     "shell.execute_reply.started": "2023-05-22T16:14:14.733770Z"
    }
   },
   "outputs": [
    {
     "data": {
      "text/html": [
       "<div>\n",
       "<style scoped>\n",
       "    .dataframe tbody tr th:only-of-type {\n",
       "        vertical-align: middle;\n",
       "    }\n",
       "\n",
       "    .dataframe tbody tr th {\n",
       "        vertical-align: top;\n",
       "    }\n",
       "\n",
       "    .dataframe thead th {\n",
       "        text-align: right;\n",
       "    }\n",
       "</style>\n",
       "<table border=\"1\" class=\"dataframe\">\n",
       "  <thead>\n",
       "    <tr style=\"text-align: right;\">\n",
       "      <th></th>\n",
       "      <th>title</th>\n",
       "      <th>text</th>\n",
       "      <th>subject</th>\n",
       "      <th>date</th>\n",
       "    </tr>\n",
       "  </thead>\n",
       "  <tbody>\n",
       "    <tr>\n",
       "      <th>0</th>\n",
       "      <td>Donald Trump Sends Out Embarrassing New Year’...</td>\n",
       "      <td>Donald Trump just couldn t wish all Americans ...</td>\n",
       "      <td>News</td>\n",
       "      <td>December 31, 2017</td>\n",
       "    </tr>\n",
       "    <tr>\n",
       "      <th>1</th>\n",
       "      <td>Drunk Bragging Trump Staffer Started Russian ...</td>\n",
       "      <td>House Intelligence Committee Chairman Devin Nu...</td>\n",
       "      <td>News</td>\n",
       "      <td>December 31, 2017</td>\n",
       "    </tr>\n",
       "    <tr>\n",
       "      <th>2</th>\n",
       "      <td>Sheriff David Clarke Becomes An Internet Joke...</td>\n",
       "      <td>On Friday, it was revealed that former Milwauk...</td>\n",
       "      <td>News</td>\n",
       "      <td>December 30, 2017</td>\n",
       "    </tr>\n",
       "    <tr>\n",
       "      <th>3</th>\n",
       "      <td>Trump Is So Obsessed He Even Has Obama’s Name...</td>\n",
       "      <td>On Christmas day, Donald Trump announced that ...</td>\n",
       "      <td>News</td>\n",
       "      <td>December 29, 2017</td>\n",
       "    </tr>\n",
       "    <tr>\n",
       "      <th>4</th>\n",
       "      <td>Pope Francis Just Called Out Donald Trump Dur...</td>\n",
       "      <td>Pope Francis used his annual Christmas Day mes...</td>\n",
       "      <td>News</td>\n",
       "      <td>December 25, 2017</td>\n",
       "    </tr>\n",
       "  </tbody>\n",
       "</table>\n",
       "</div>"
      ],
      "text/plain": [
       "                                               title  \\\n",
       "0   Donald Trump Sends Out Embarrassing New Year’...   \n",
       "1   Drunk Bragging Trump Staffer Started Russian ...   \n",
       "2   Sheriff David Clarke Becomes An Internet Joke...   \n",
       "3   Trump Is So Obsessed He Even Has Obama’s Name...   \n",
       "4   Pope Francis Just Called Out Donald Trump Dur...   \n",
       "\n",
       "                                                text subject  \\\n",
       "0  Donald Trump just couldn t wish all Americans ...    News   \n",
       "1  House Intelligence Committee Chairman Devin Nu...    News   \n",
       "2  On Friday, it was revealed that former Milwauk...    News   \n",
       "3  On Christmas day, Donald Trump announced that ...    News   \n",
       "4  Pope Francis used his annual Christmas Day mes...    News   \n",
       "\n",
       "                date  \n",
       "0  December 31, 2017  \n",
       "1  December 31, 2017  \n",
       "2  December 30, 2017  \n",
       "3  December 29, 2017  \n",
       "4  December 25, 2017  "
      ]
     },
     "execution_count": 5,
     "metadata": {},
     "output_type": "execute_result"
    }
   ],
   "source": [
    "df_fake.head()"
   ]
  },
  {
   "cell_type": "code",
   "execution_count": 6,
   "metadata": {
    "execution": {
     "iopub.execute_input": "2023-05-22T16:14:14.777033Z",
     "iopub.status.busy": "2023-05-22T16:14:14.776508Z",
     "iopub.status.idle": "2023-05-22T16:14:14.790228Z",
     "shell.execute_reply": "2023-05-22T16:14:14.789054Z",
     "shell.execute_reply.started": "2023-05-22T16:14:14.776992Z"
    }
   },
   "outputs": [
    {
     "data": {
      "text/html": [
       "<div>\n",
       "<style scoped>\n",
       "    .dataframe tbody tr th:only-of-type {\n",
       "        vertical-align: middle;\n",
       "    }\n",
       "\n",
       "    .dataframe tbody tr th {\n",
       "        vertical-align: top;\n",
       "    }\n",
       "\n",
       "    .dataframe thead th {\n",
       "        text-align: right;\n",
       "    }\n",
       "</style>\n",
       "<table border=\"1\" class=\"dataframe\">\n",
       "  <thead>\n",
       "    <tr style=\"text-align: right;\">\n",
       "      <th></th>\n",
       "      <th>title</th>\n",
       "      <th>text</th>\n",
       "      <th>subject</th>\n",
       "      <th>date</th>\n",
       "    </tr>\n",
       "  </thead>\n",
       "  <tbody>\n",
       "    <tr>\n",
       "      <th>0</th>\n",
       "      <td>As U.S. budget fight looms, Republicans flip t...</td>\n",
       "      <td>WASHINGTON (Reuters) - The head of a conservat...</td>\n",
       "      <td>politicsNews</td>\n",
       "      <td>December 31, 2017</td>\n",
       "    </tr>\n",
       "    <tr>\n",
       "      <th>1</th>\n",
       "      <td>U.S. military to accept transgender recruits o...</td>\n",
       "      <td>WASHINGTON (Reuters) - Transgender people will...</td>\n",
       "      <td>politicsNews</td>\n",
       "      <td>December 29, 2017</td>\n",
       "    </tr>\n",
       "    <tr>\n",
       "      <th>2</th>\n",
       "      <td>Senior U.S. Republican senator: 'Let Mr. Muell...</td>\n",
       "      <td>WASHINGTON (Reuters) - The special counsel inv...</td>\n",
       "      <td>politicsNews</td>\n",
       "      <td>December 31, 2017</td>\n",
       "    </tr>\n",
       "    <tr>\n",
       "      <th>3</th>\n",
       "      <td>FBI Russia probe helped by Australian diplomat...</td>\n",
       "      <td>WASHINGTON (Reuters) - Trump campaign adviser ...</td>\n",
       "      <td>politicsNews</td>\n",
       "      <td>December 30, 2017</td>\n",
       "    </tr>\n",
       "    <tr>\n",
       "      <th>4</th>\n",
       "      <td>Trump wants Postal Service to charge 'much mor...</td>\n",
       "      <td>SEATTLE/WASHINGTON (Reuters) - President Donal...</td>\n",
       "      <td>politicsNews</td>\n",
       "      <td>December 29, 2017</td>\n",
       "    </tr>\n",
       "  </tbody>\n",
       "</table>\n",
       "</div>"
      ],
      "text/plain": [
       "                                               title  \\\n",
       "0  As U.S. budget fight looms, Republicans flip t...   \n",
       "1  U.S. military to accept transgender recruits o...   \n",
       "2  Senior U.S. Republican senator: 'Let Mr. Muell...   \n",
       "3  FBI Russia probe helped by Australian diplomat...   \n",
       "4  Trump wants Postal Service to charge 'much mor...   \n",
       "\n",
       "                                                text       subject  \\\n",
       "0  WASHINGTON (Reuters) - The head of a conservat...  politicsNews   \n",
       "1  WASHINGTON (Reuters) - Transgender people will...  politicsNews   \n",
       "2  WASHINGTON (Reuters) - The special counsel inv...  politicsNews   \n",
       "3  WASHINGTON (Reuters) - Trump campaign adviser ...  politicsNews   \n",
       "4  SEATTLE/WASHINGTON (Reuters) - President Donal...  politicsNews   \n",
       "\n",
       "                 date  \n",
       "0  December 31, 2017   \n",
       "1  December 29, 2017   \n",
       "2  December 31, 2017   \n",
       "3  December 30, 2017   \n",
       "4  December 29, 2017   "
      ]
     },
     "execution_count": 6,
     "metadata": {},
     "output_type": "execute_result"
    }
   ],
   "source": [
    "df_true.head()"
   ]
  },
  {
   "cell_type": "code",
   "execution_count": 7,
   "metadata": {
    "execution": {
     "iopub.execute_input": "2023-05-22T16:14:14.791919Z",
     "iopub.status.busy": "2023-05-22T16:14:14.791550Z",
     "iopub.status.idle": "2023-05-22T16:14:14.913507Z",
     "shell.execute_reply": "2023-05-22T16:14:14.912703Z",
     "shell.execute_reply.started": "2023-05-22T16:14:14.791890Z"
    }
   },
   "outputs": [
    {
     "name": "stdout",
     "output_type": "stream",
     "text": [
      "<class 'pandas.core.frame.DataFrame'>\n",
      "Int64Index: 44898 entries, 0 to 23480\n",
      "Data columns (total 5 columns):\n",
      " #   Column     Non-Null Count  Dtype \n",
      "---  ------     --------------  ----- \n",
      " 0   title      44898 non-null  object\n",
      " 1   Fake/True  44898 non-null  object\n",
      " 2   text       44898 non-null  object\n",
      " 3   subject    44898 non-null  object\n",
      " 4   date       44898 non-null  object\n",
      "dtypes: object(5)\n",
      "memory usage: 2.1+ MB\n"
     ]
    }
   ],
   "source": [
    "df_fake.insert(1, 'Fake/True', 'Fake')\n",
    "df_true.insert(1, 'Fake/True', 'True')\n",
    "df=df_true.append(df_fake)\n",
    "df.info()"
   ]
  },
  {
   "cell_type": "code",
   "execution_count": 8,
   "metadata": {
    "execution": {
     "iopub.execute_input": "2023-05-22T16:14:14.915013Z",
     "iopub.status.busy": "2023-05-22T16:14:14.914576Z",
     "iopub.status.idle": "2023-05-22T16:14:14.930547Z",
     "shell.execute_reply": "2023-05-22T16:14:14.929251Z",
     "shell.execute_reply.started": "2023-05-22T16:14:14.914971Z"
    }
   },
   "outputs": [
    {
     "data": {
      "text/plain": [
       "Fake    23481\n",
       "True    21417\n",
       "Name: Fake/True, dtype: int64"
      ]
     },
     "execution_count": 8,
     "metadata": {},
     "output_type": "execute_result"
    }
   ],
   "source": [
    "df['Fake/True'].value_counts()"
   ]
  },
  {
   "cell_type": "code",
   "execution_count": 9,
   "metadata": {
    "execution": {
     "iopub.execute_input": "2023-05-22T16:14:14.932946Z",
     "iopub.status.busy": "2023-05-22T16:14:14.932264Z",
     "iopub.status.idle": "2023-05-22T16:14:14.950562Z",
     "shell.execute_reply": "2023-05-22T16:14:14.949563Z",
     "shell.execute_reply.started": "2023-05-22T16:14:14.932907Z"
    }
   },
   "outputs": [
    {
     "data": {
      "text/plain": [
       "politicsNews       11272\n",
       "worldnews          10145\n",
       "News                9050\n",
       "politics            6841\n",
       "left-news           4459\n",
       "Government News     1570\n",
       "US_News              783\n",
       "Middle-east          778\n",
       "Name: subject, dtype: int64"
      ]
     },
     "execution_count": 9,
     "metadata": {},
     "output_type": "execute_result"
    }
   ],
   "source": [
    "df['subject'].value_counts()"
   ]
  },
  {
   "cell_type": "code",
   "execution_count": 10,
   "metadata": {
    "execution": {
     "iopub.execute_input": "2023-05-22T16:14:14.952506Z",
     "iopub.status.busy": "2023-05-22T16:14:14.952115Z",
     "iopub.status.idle": "2023-05-22T16:14:14.968995Z",
     "shell.execute_reply": "2023-05-22T16:14:14.968017Z",
     "shell.execute_reply.started": "2023-05-22T16:14:14.952473Z"
    }
   },
   "outputs": [],
   "source": [
    "df=df.drop(columns=['title','date'],axis=1)"
   ]
  },
  {
   "cell_type": "markdown",
   "metadata": {},
   "source": [
    "# **Preprocessing the Data**"
   ]
  },
  {
   "cell_type": "code",
   "execution_count": 11,
   "metadata": {
    "execution": {
     "iopub.execute_input": "2023-05-22T16:14:14.973667Z",
     "iopub.status.busy": "2023-05-22T16:14:14.972533Z",
     "iopub.status.idle": "2023-05-22T16:14:14.985074Z",
     "shell.execute_reply": "2023-05-22T16:14:14.983645Z",
     "shell.execute_reply.started": "2023-05-22T16:14:14.973580Z"
    }
   },
   "outputs": [],
   "source": [
    "df['label']=df['Fake/True'].map({\"Fake\":0,\"True\":1})"
   ]
  },
  {
   "cell_type": "code",
   "execution_count": 12,
   "metadata": {
    "execution": {
     "iopub.execute_input": "2023-05-22T16:14:14.987162Z",
     "iopub.status.busy": "2023-05-22T16:14:14.986491Z",
     "iopub.status.idle": "2023-05-22T16:14:25.090927Z",
     "shell.execute_reply": "2023-05-22T16:14:25.089785Z",
     "shell.execute_reply.started": "2023-05-22T16:14:14.987129Z"
    }
   },
   "outputs": [],
   "source": [
    "df['text']=df['text'].str.lower()\n",
    "df['text']=df['text'].str.replace('[^\\w\\s]','')\n",
    "df['text']=df['text'].str.replace('\\d+','')\n",
    "df['text']=df['text'].str.replace('\\n','').replace('\\r',\"\")"
   ]
  },
  {
   "cell_type": "code",
   "execution_count": 13,
   "metadata": {
    "execution": {
     "iopub.execute_input": "2023-05-22T16:14:25.092943Z",
     "iopub.status.busy": "2023-05-22T16:14:25.092484Z",
     "iopub.status.idle": "2023-05-22T16:14:25.098763Z",
     "shell.execute_reply": "2023-05-22T16:14:25.097673Z",
     "shell.execute_reply.started": "2023-05-22T16:14:25.092903Z"
    }
   },
   "outputs": [],
   "source": [
    "del df['subject']"
   ]
  },
  {
   "cell_type": "code",
   "execution_count": 14,
   "metadata": {
    "execution": {
     "iopub.execute_input": "2023-05-22T16:14:25.101140Z",
     "iopub.status.busy": "2023-05-22T16:14:25.100268Z",
     "iopub.status.idle": "2023-05-22T16:14:25.114189Z",
     "shell.execute_reply": "2023-05-22T16:14:25.113149Z",
     "shell.execute_reply.started": "2023-05-22T16:14:25.101105Z"
    }
   },
   "outputs": [],
   "source": [
    "x=df['text'].values\n",
    "y=df['label'].values\n",
    "\n",
    "from sklearn.feature_extraction.text import CountVectorizer, TfidfVectorizer #Both CountVectorizer and TfidfVectorizer are used for text feature extraction, specifically for converting text documents into numerical feature vectors that can be used as input for machine learning algorithms."
   ]
  },
  {
   "cell_type": "code",
   "execution_count": 15,
   "metadata": {
    "execution": {
     "iopub.execute_input": "2023-05-22T16:14:25.116453Z",
     "iopub.status.busy": "2023-05-22T16:14:25.116021Z",
     "iopub.status.idle": "2023-05-22T16:14:45.250752Z",
     "shell.execute_reply": "2023-05-22T16:14:45.249392Z",
     "shell.execute_reply.started": "2023-05-22T16:14:25.116422Z"
    }
   },
   "outputs": [],
   "source": [
    "vect=CountVectorizer(stop_words='english')\n",
    "x=vect.fit_transform(x)"
   ]
  },
  {
   "cell_type": "code",
   "execution_count": 16,
   "metadata": {
    "execution": {
     "iopub.execute_input": "2023-05-22T16:14:45.252989Z",
     "iopub.status.busy": "2023-05-22T16:14:45.252455Z",
     "iopub.status.idle": "2023-05-22T16:14:45.299822Z",
     "shell.execute_reply": "2023-05-22T16:14:45.298738Z",
     "shell.execute_reply.started": "2023-05-22T16:14:45.252946Z"
    }
   },
   "outputs": [],
   "source": [
    "x_train,x_test,y_train,y_test  = train_test_split(x,y,random_state=69,test_size=.15)"
   ]
  },
  {
   "cell_type": "markdown",
   "metadata": {},
   "source": [
    "# **Modeling with ML algorithms**"
   ]
  },
  {
   "cell_type": "markdown",
   "metadata": {},
   "source": [
    "**Naive Bayes**"
   ]
  },
  {
   "cell_type": "code",
   "execution_count": 17,
   "metadata": {
    "execution": {
     "iopub.execute_input": "2023-05-22T16:14:45.301976Z",
     "iopub.status.busy": "2023-05-22T16:14:45.301640Z",
     "iopub.status.idle": "2023-05-22T16:14:45.393397Z",
     "shell.execute_reply": "2023-05-22T16:14:45.392256Z",
     "shell.execute_reply.started": "2023-05-22T16:14:45.301948Z"
    }
   },
   "outputs": [],
   "source": [
    "nb = MultinomialNB()\n",
    "nb.fit(x_train,y_train)\n",
    "prediction_nb = nb.predict(x_test)\n"
   ]
  },
  {
   "cell_type": "markdown",
   "metadata": {},
   "source": [
    "**Decision Tree**"
   ]
  },
  {
   "cell_type": "code",
   "execution_count": 18,
   "metadata": {
    "execution": {
     "iopub.execute_input": "2023-05-22T16:14:45.395713Z",
     "iopub.status.busy": "2023-05-22T16:14:45.394900Z",
     "iopub.status.idle": "2023-05-22T16:15:14.213800Z",
     "shell.execute_reply": "2023-05-22T16:15:14.212271Z",
     "shell.execute_reply.started": "2023-05-22T16:14:45.395678Z"
    }
   },
   "outputs": [],
   "source": [
    "from sklearn.tree import DecisionTreeClassifier\n",
    "dt = DecisionTreeClassifier()\n",
    "dt.fit(x_train,y_train)\n",
    "prediction_dt = dt.predict(x_test)"
   ]
  },
  {
   "cell_type": "markdown",
   "metadata": {},
   "source": [
    "**Random Forest**"
   ]
  },
  {
   "cell_type": "code",
   "execution_count": 19,
   "metadata": {
    "execution": {
     "iopub.execute_input": "2023-05-22T16:15:14.215530Z",
     "iopub.status.busy": "2023-05-22T16:15:14.215103Z",
     "iopub.status.idle": "2023-05-22T16:19:14.012193Z",
     "shell.execute_reply": "2023-05-22T16:19:14.010929Z",
     "shell.execute_reply.started": "2023-05-22T16:15:14.215489Z"
    }
   },
   "outputs": [],
   "source": [
    "from sklearn.ensemble import RandomForestClassifier\n",
    "rf = RandomForestClassifier()\n",
    "rf.fit(x_train,y_train)\n",
    "prediction_rf = rf.predict(x_test)"
   ]
  },
  {
   "cell_type": "markdown",
   "metadata": {},
   "source": [
    "**Neural Network**"
   ]
  },
  {
   "cell_type": "code",
   "execution_count": 20,
   "metadata": {
    "execution": {
     "iopub.execute_input": "2023-05-22T16:19:14.014227Z",
     "iopub.status.busy": "2023-05-22T16:19:14.013849Z",
     "iopub.status.idle": "2023-05-22T17:06:26.692802Z",
     "shell.execute_reply": "2023-05-22T17:06:26.690955Z",
     "shell.execute_reply.started": "2023-05-22T16:19:14.014196Z"
    }
   },
   "outputs": [],
   "source": [
    "from sklearn.neural_network import MLPClassifier\n",
    "nn = MLPClassifier(max_iter=300)\n",
    "nn.fit(x_train,y_train)\n",
    "prediction_nn = nn.predict(x_test)"
   ]
  },
  {
   "cell_type": "code",
   "execution_count": 22,
   "metadata": {
    "execution": {
     "iopub.execute_input": "2023-05-22T17:06:45.927786Z",
     "iopub.status.busy": "2023-05-22T17:06:45.927351Z",
     "iopub.status.idle": "2023-05-22T17:06:45.938781Z",
     "shell.execute_reply": "2023-05-22T17:06:45.937655Z",
     "shell.execute_reply.started": "2023-05-22T17:06:45.927752Z"
    }
   },
   "outputs": [
    {
     "name": "stdout",
     "output_type": "stream",
     "text": [
      "Naive Bayes Accuracy : \n",
      "\n"
     ]
    },
    {
     "data": {
      "text/plain": [
       "0.955902004454343"
      ]
     },
     "execution_count": 22,
     "metadata": {},
     "output_type": "execute_result"
    }
   ],
   "source": [
    "print(\"Naive Bayes Accuracy : \\n\")\n",
    "accuracy_score(y_test,prediction_nb)"
   ]
  },
  {
   "cell_type": "code",
   "execution_count": 23,
   "metadata": {
    "execution": {
     "iopub.execute_input": "2023-05-22T17:06:53.125543Z",
     "iopub.status.busy": "2023-05-22T17:06:53.125119Z",
     "iopub.status.idle": "2023-05-22T17:06:53.137447Z",
     "shell.execute_reply": "2023-05-22T17:06:53.135669Z",
     "shell.execute_reply.started": "2023-05-22T17:06:53.125503Z"
    }
   },
   "outputs": [
    {
     "name": "stdout",
     "output_type": "stream",
     "text": [
      "Decision Tree Accuracy : \n",
      "\n"
     ]
    },
    {
     "data": {
      "text/plain": [
       "0.9971789161098737"
      ]
     },
     "execution_count": 23,
     "metadata": {},
     "output_type": "execute_result"
    }
   ],
   "source": [
    "print(\"Decision Tree Accuracy : \\n\")\n",
    "accuracy_score(y_test,prediction_dt)"
   ]
  },
  {
   "cell_type": "code",
   "execution_count": 24,
   "metadata": {
    "execution": {
     "iopub.execute_input": "2023-05-22T17:07:06.416196Z",
     "iopub.status.busy": "2023-05-22T17:07:06.415782Z",
     "iopub.status.idle": "2023-05-22T17:07:06.426962Z",
     "shell.execute_reply": "2023-05-22T17:07:06.425579Z",
     "shell.execute_reply.started": "2023-05-22T17:07:06.416166Z"
    }
   },
   "outputs": [
    {
     "name": "stdout",
     "output_type": "stream",
     "text": [
      "Random Forest Accuracy : \n",
      "\n"
     ]
    },
    {
     "data": {
      "text/plain": [
       "0.9910913140311804"
      ]
     },
     "execution_count": 24,
     "metadata": {},
     "output_type": "execute_result"
    }
   ],
   "source": [
    "print(\"Random Forest Accuracy : \\n\")\n",
    "accuracy_score(y_test,prediction_rf)"
   ]
  },
  {
   "cell_type": "code",
   "execution_count": 25,
   "metadata": {
    "execution": {
     "iopub.execute_input": "2023-05-22T17:07:16.384944Z",
     "iopub.status.busy": "2023-05-22T17:07:16.384490Z",
     "iopub.status.idle": "2023-05-22T17:07:16.393813Z",
     "shell.execute_reply": "2023-05-22T17:07:16.392700Z",
     "shell.execute_reply.started": "2023-05-22T17:07:16.384912Z"
    }
   },
   "outputs": [
    {
     "name": "stdout",
     "output_type": "stream",
     "text": [
      "Neural Network Accuracy : \n",
      "\n"
     ]
    },
    {
     "data": {
      "text/plain": [
       "0.9949517446176689"
      ]
     },
     "execution_count": 25,
     "metadata": {},
     "output_type": "execute_result"
    }
   ],
   "source": [
    "print(\"Neural Network Accuracy : \\n\")\n",
    "accuracy_score(y_test,prediction_nn)"
   ]
  },
  {
   "cell_type": "markdown",
   "metadata": {},
   "source": [
    "# **Perform evaluation and Comparative analysis**"
   ]
  },
  {
   "cell_type": "markdown",
   "metadata": {},
   "source": [
    "**Neural Network**"
   ]
  },
  {
   "cell_type": "code",
   "execution_count": 31,
   "metadata": {
    "execution": {
     "iopub.execute_input": "2023-05-22T17:16:41.901571Z",
     "iopub.status.busy": "2023-05-22T17:16:41.901096Z",
     "iopub.status.idle": "2023-05-22T17:16:41.928726Z",
     "shell.execute_reply": "2023-05-22T17:16:41.927373Z",
     "shell.execute_reply.started": "2023-05-22T17:16:41.901535Z"
    }
   },
   "outputs": [
    {
     "name": "stdout",
     "output_type": "stream",
     "text": [
      "              precision    recall  f1-score   support\n",
      "\n",
      "           0       1.00      0.99      1.00      3550\n",
      "           1       0.99      1.00      0.99      3185\n",
      "\n",
      "    accuracy                           0.99      6735\n",
      "   macro avg       0.99      1.00      0.99      6735\n",
      "weighted avg       0.99      0.99      0.99      6735\n",
      "\n"
     ]
    }
   ],
   "source": [
    "from sklearn.metrics import classification_report\n",
    "print(classification_report(y_test,prediction_nn))"
   ]
  },
  {
   "cell_type": "markdown",
   "metadata": {},
   "source": [
    "**Naive Bayes**"
   ]
  },
  {
   "cell_type": "code",
   "execution_count": 32,
   "metadata": {
    "execution": {
     "iopub.execute_input": "2023-05-22T17:16:43.951042Z",
     "iopub.status.busy": "2023-05-22T17:16:43.950226Z",
     "iopub.status.idle": "2023-05-22T17:16:43.977970Z",
     "shell.execute_reply": "2023-05-22T17:16:43.976597Z",
     "shell.execute_reply.started": "2023-05-22T17:16:43.951004Z"
    }
   },
   "outputs": [
    {
     "name": "stdout",
     "output_type": "stream",
     "text": [
      "              precision    recall  f1-score   support\n",
      "\n",
      "           0       0.97      0.94      0.96      3550\n",
      "           1       0.94      0.97      0.95      3185\n",
      "\n",
      "    accuracy                           0.96      6735\n",
      "   macro avg       0.96      0.96      0.96      6735\n",
      "weighted avg       0.96      0.96      0.96      6735\n",
      "\n"
     ]
    }
   ],
   "source": [
    "print(classification_report(y_test,prediction_nb))"
   ]
  },
  {
   "cell_type": "markdown",
   "metadata": {},
   "source": [
    "**Decision Tree**"
   ]
  },
  {
   "cell_type": "code",
   "execution_count": 33,
   "metadata": {
    "execution": {
     "iopub.execute_input": "2023-05-22T17:16:45.599664Z",
     "iopub.status.busy": "2023-05-22T17:16:45.598677Z",
     "iopub.status.idle": "2023-05-22T17:16:45.626369Z",
     "shell.execute_reply": "2023-05-22T17:16:45.625003Z",
     "shell.execute_reply.started": "2023-05-22T17:16:45.599565Z"
    }
   },
   "outputs": [
    {
     "name": "stdout",
     "output_type": "stream",
     "text": [
      "              precision    recall  f1-score   support\n",
      "\n",
      "           0       1.00      1.00      1.00      3550\n",
      "           1       1.00      1.00      1.00      3185\n",
      "\n",
      "    accuracy                           1.00      6735\n",
      "   macro avg       1.00      1.00      1.00      6735\n",
      "weighted avg       1.00      1.00      1.00      6735\n",
      "\n"
     ]
    }
   ],
   "source": [
    "print(classification_report(y_test,prediction_dt))"
   ]
  },
  {
   "cell_type": "markdown",
   "metadata": {},
   "source": [
    "**Random Forest**"
   ]
  },
  {
   "cell_type": "code",
   "execution_count": 34,
   "metadata": {
    "execution": {
     "iopub.execute_input": "2023-05-22T17:16:46.874766Z",
     "iopub.status.busy": "2023-05-22T17:16:46.874355Z",
     "iopub.status.idle": "2023-05-22T17:16:46.900071Z",
     "shell.execute_reply": "2023-05-22T17:16:46.898766Z",
     "shell.execute_reply.started": "2023-05-22T17:16:46.874735Z"
    }
   },
   "outputs": [
    {
     "name": "stdout",
     "output_type": "stream",
     "text": [
      "              precision    recall  f1-score   support\n",
      "\n",
      "           0       0.99      0.99      0.99      3550\n",
      "           1       0.99      0.99      0.99      3185\n",
      "\n",
      "    accuracy                           0.99      6735\n",
      "   macro avg       0.99      0.99      0.99      6735\n",
      "weighted avg       0.99      0.99      0.99      6735\n",
      "\n"
     ]
    }
   ],
   "source": [
    "print(classification_report(y_test,prediction_rf))"
   ]
  }
 ],
 "metadata": {
  "kernelspec": {
   "display_name": "Python 3 (ipykernel)",
   "language": "python",
   "name": "python3"
  },
  "language_info": {
   "codemirror_mode": {
    "name": "ipython",
    "version": 3
   },
   "file_extension": ".py",
   "mimetype": "text/x-python",
   "name": "python",
   "nbconvert_exporter": "python",
   "pygments_lexer": "ipython3",
   "version": "3.9.13"
  }
 },
 "nbformat": 4,
 "nbformat_minor": 4
}
